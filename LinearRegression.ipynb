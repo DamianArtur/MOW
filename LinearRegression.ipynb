{
 "cells": [
  {
   "cell_type": "code",
   "execution_count": 1,
   "id": "773be994-bf88-43ff-9e70-c2eea58cb5f8",
   "metadata": {},
   "outputs": [],
   "source": [
    "import pandas as pd \n",
    "import matplotlib.pyplot as plt\n",
    "import numpy as np\n",
    "import random\n",
    "import sys\n",
    "from typing import Tuple"
   ]
  },
  {
   "cell_type": "markdown",
   "id": "402ef7f0-f78b-4da5-90e9-77b7bd540c00",
   "metadata": {},
   "source": [
    "#### Load data"
   ]
  },
  {
   "cell_type": "code",
   "execution_count": 2,
   "id": "47abb37c-d3a9-40e0-ad91-03c1bfff5206",
   "metadata": {},
   "outputs": [
    {
     "data": {
      "text/html": [
       "<div>\n",
       "<style scoped>\n",
       "    .dataframe tbody tr th:only-of-type {\n",
       "        vertical-align: middle;\n",
       "    }\n",
       "\n",
       "    .dataframe tbody tr th {\n",
       "        vertical-align: top;\n",
       "    }\n",
       "\n",
       "    .dataframe thead th {\n",
       "        text-align: right;\n",
       "    }\n",
       "</style>\n",
       "<table border=\"1\" class=\"dataframe\">\n",
       "  <thead>\n",
       "    <tr style=\"text-align: right;\">\n",
       "      <th></th>\n",
       "      <th>YearsExperience</th>\n",
       "      <th>Age</th>\n",
       "      <th>Salary</th>\n",
       "    </tr>\n",
       "  </thead>\n",
       "  <tbody>\n",
       "    <tr>\n",
       "      <th>0</th>\n",
       "      <td>1.1</td>\n",
       "      <td>20</td>\n",
       "      <td>39343</td>\n",
       "    </tr>\n",
       "    <tr>\n",
       "      <th>1</th>\n",
       "      <td>1.3</td>\n",
       "      <td>21</td>\n",
       "      <td>46205</td>\n",
       "    </tr>\n",
       "    <tr>\n",
       "      <th>2</th>\n",
       "      <td>1.5</td>\n",
       "      <td>21</td>\n",
       "      <td>37731</td>\n",
       "    </tr>\n",
       "    <tr>\n",
       "      <th>3</th>\n",
       "      <td>2.0</td>\n",
       "      <td>22</td>\n",
       "      <td>43525</td>\n",
       "    </tr>\n",
       "    <tr>\n",
       "      <th>4</th>\n",
       "      <td>2.2</td>\n",
       "      <td>22</td>\n",
       "      <td>39891</td>\n",
       "    </tr>\n",
       "    <tr>\n",
       "      <th>5</th>\n",
       "      <td>2.9</td>\n",
       "      <td>22</td>\n",
       "      <td>56642</td>\n",
       "    </tr>\n",
       "    <tr>\n",
       "      <th>6</th>\n",
       "      <td>3.0</td>\n",
       "      <td>23</td>\n",
       "      <td>60150</td>\n",
       "    </tr>\n",
       "    <tr>\n",
       "      <th>7</th>\n",
       "      <td>3.2</td>\n",
       "      <td>24</td>\n",
       "      <td>54445</td>\n",
       "    </tr>\n",
       "    <tr>\n",
       "      <th>8</th>\n",
       "      <td>3.2</td>\n",
       "      <td>24</td>\n",
       "      <td>62444</td>\n",
       "    </tr>\n",
       "    <tr>\n",
       "      <th>9</th>\n",
       "      <td>3.7</td>\n",
       "      <td>24</td>\n",
       "      <td>57189</td>\n",
       "    </tr>\n",
       "    <tr>\n",
       "      <th>10</th>\n",
       "      <td>3.9</td>\n",
       "      <td>25</td>\n",
       "      <td>63218</td>\n",
       "    </tr>\n",
       "    <tr>\n",
       "      <th>11</th>\n",
       "      <td>4.0</td>\n",
       "      <td>25</td>\n",
       "      <td>55794</td>\n",
       "    </tr>\n",
       "    <tr>\n",
       "      <th>12</th>\n",
       "      <td>4.0</td>\n",
       "      <td>25</td>\n",
       "      <td>56957</td>\n",
       "    </tr>\n",
       "    <tr>\n",
       "      <th>13</th>\n",
       "      <td>4.1</td>\n",
       "      <td>25</td>\n",
       "      <td>57081</td>\n",
       "    </tr>\n",
       "    <tr>\n",
       "      <th>14</th>\n",
       "      <td>4.5</td>\n",
       "      <td>26</td>\n",
       "      <td>61111</td>\n",
       "    </tr>\n",
       "    <tr>\n",
       "      <th>15</th>\n",
       "      <td>4.9</td>\n",
       "      <td>26</td>\n",
       "      <td>67938</td>\n",
       "    </tr>\n",
       "    <tr>\n",
       "      <th>16</th>\n",
       "      <td>5.1</td>\n",
       "      <td>26</td>\n",
       "      <td>66029</td>\n",
       "    </tr>\n",
       "    <tr>\n",
       "      <th>17</th>\n",
       "      <td>5.3</td>\n",
       "      <td>27</td>\n",
       "      <td>83088</td>\n",
       "    </tr>\n",
       "    <tr>\n",
       "      <th>18</th>\n",
       "      <td>5.9</td>\n",
       "      <td>28</td>\n",
       "      <td>81363</td>\n",
       "    </tr>\n",
       "    <tr>\n",
       "      <th>19</th>\n",
       "      <td>6.0</td>\n",
       "      <td>29</td>\n",
       "      <td>93940</td>\n",
       "    </tr>\n",
       "    <tr>\n",
       "      <th>20</th>\n",
       "      <td>6.8</td>\n",
       "      <td>29</td>\n",
       "      <td>91738</td>\n",
       "    </tr>\n",
       "    <tr>\n",
       "      <th>21</th>\n",
       "      <td>7.1</td>\n",
       "      <td>29</td>\n",
       "      <td>98273</td>\n",
       "    </tr>\n",
       "    <tr>\n",
       "      <th>22</th>\n",
       "      <td>7.9</td>\n",
       "      <td>31</td>\n",
       "      <td>101302</td>\n",
       "    </tr>\n",
       "    <tr>\n",
       "      <th>23</th>\n",
       "      <td>8.2</td>\n",
       "      <td>31</td>\n",
       "      <td>113812</td>\n",
       "    </tr>\n",
       "    <tr>\n",
       "      <th>24</th>\n",
       "      <td>8.7</td>\n",
       "      <td>32</td>\n",
       "      <td>109431</td>\n",
       "    </tr>\n",
       "    <tr>\n",
       "      <th>25</th>\n",
       "      <td>9.0</td>\n",
       "      <td>32</td>\n",
       "      <td>105582</td>\n",
       "    </tr>\n",
       "    <tr>\n",
       "      <th>26</th>\n",
       "      <td>9.5</td>\n",
       "      <td>33</td>\n",
       "      <td>116969</td>\n",
       "    </tr>\n",
       "    <tr>\n",
       "      <th>27</th>\n",
       "      <td>9.6</td>\n",
       "      <td>34</td>\n",
       "      <td>112635</td>\n",
       "    </tr>\n",
       "    <tr>\n",
       "      <th>28</th>\n",
       "      <td>10.3</td>\n",
       "      <td>36</td>\n",
       "      <td>122391</td>\n",
       "    </tr>\n",
       "    <tr>\n",
       "      <th>29</th>\n",
       "      <td>10.5</td>\n",
       "      <td>34</td>\n",
       "      <td>121872</td>\n",
       "    </tr>\n",
       "    <tr>\n",
       "      <th>30</th>\n",
       "      <td>11.2</td>\n",
       "      <td>36</td>\n",
       "      <td>127345</td>\n",
       "    </tr>\n",
       "    <tr>\n",
       "      <th>31</th>\n",
       "      <td>11.5</td>\n",
       "      <td>36</td>\n",
       "      <td>126756</td>\n",
       "    </tr>\n",
       "    <tr>\n",
       "      <th>32</th>\n",
       "      <td>12.3</td>\n",
       "      <td>37</td>\n",
       "      <td>128765</td>\n",
       "    </tr>\n",
       "    <tr>\n",
       "      <th>33</th>\n",
       "      <td>12.9</td>\n",
       "      <td>40</td>\n",
       "      <td>135675</td>\n",
       "    </tr>\n",
       "    <tr>\n",
       "      <th>34</th>\n",
       "      <td>13.5</td>\n",
       "      <td>38</td>\n",
       "      <td>139465</td>\n",
       "    </tr>\n",
       "  </tbody>\n",
       "</table>\n",
       "</div>"
      ],
      "text/plain": [
       "    YearsExperience  Age  Salary\n",
       "0               1.1   20   39343\n",
       "1               1.3   21   46205\n",
       "2               1.5   21   37731\n",
       "3               2.0   22   43525\n",
       "4               2.2   22   39891\n",
       "5               2.9   22   56642\n",
       "6               3.0   23   60150\n",
       "7               3.2   24   54445\n",
       "8               3.2   24   62444\n",
       "9               3.7   24   57189\n",
       "10              3.9   25   63218\n",
       "11              4.0   25   55794\n",
       "12              4.0   25   56957\n",
       "13              4.1   25   57081\n",
       "14              4.5   26   61111\n",
       "15              4.9   26   67938\n",
       "16              5.1   26   66029\n",
       "17              5.3   27   83088\n",
       "18              5.9   28   81363\n",
       "19              6.0   29   93940\n",
       "20              6.8   29   91738\n",
       "21              7.1   29   98273\n",
       "22              7.9   31  101302\n",
       "23              8.2   31  113812\n",
       "24              8.7   32  109431\n",
       "25              9.0   32  105582\n",
       "26              9.5   33  116969\n",
       "27              9.6   34  112635\n",
       "28             10.3   36  122391\n",
       "29             10.5   34  121872\n",
       "30             11.2   36  127345\n",
       "31             11.5   36  126756\n",
       "32             12.3   37  128765\n",
       "33             12.9   40  135675\n",
       "34             13.5   38  139465"
      ]
     },
     "execution_count": 2,
     "metadata": {},
     "output_type": "execute_result"
    }
   ],
   "source": [
    "df = pd.read_csv('Salary.csv')\n",
    "df"
   ]
  },
  {
   "cell_type": "code",
   "execution_count": 3,
   "id": "dc3ed71a-d6a2-416e-9ea6-88dd91730a2b",
   "metadata": {},
   "outputs": [
    {
     "data": {
      "image/png": "[encoded data removed]",
      "text/plain": [
       "<Figure size 640x480 with 1 Axes>"
      ]
     },
     "metadata": {},
     "output_type": "display_data"
    }
   ],
   "source": [
    "plt.scatter(df['YearsExperience'], df['Salary'])\n",
    "\n",
    "plt.title(\"Experience - Salary plot\")\n",
    "plt.xlabel('Experience (Years)', fontsize=12)\n",
    "plt.ylabel('Salary', fontsize=12)\n",
    "plt.grid(True)\n",
    "\n",
    "plt.show()"
   ]
  },
  {
   "cell_type": "markdown",
   "id": "57745d91-5730-4a3c-9d9f-d2fdbadd20e6",
   "metadata": {},
   "source": [
    "#### Linear regression model"
   ]
  },
  {
   "cell_type": "code",
   "execution_count": 4,
   "id": "3cf7794d-cfff-4a76-a158-eaca65840e6a",
   "metadata": {},
   "outputs": [],
   "source": [
    "def initialize_coefficients() -> Tuple[float, float, float]:\n",
    "    epsilon = sys.float_info.epsilon\n",
    "    return random.uniform(epsilon, 1 - epsilon), random.uniform(epsilon, 1 - epsilon), 0.001"
   ]
  },
  {
   "cell_type": "code",
   "execution_count": 5,
   "id": "b2257673-9caf-4f5f-ab6b-6418d4a89075",
   "metadata": {},
   "outputs": [],
   "source": [
    "def calculate_regression_function(x: np.ndarray, beta0: float, beta1: float) -> np.ndarray:\n",
    "    return beta0 + beta1 * x"
   ]
  },
  {
   "cell_type": "code",
   "execution_count": 6,
   "id": "ad97c060-6e57-4f35-a5e1-b305edfd8b29",
   "metadata": {},
   "outputs": [],
   "source": [
    "def calculate_error(predictions: np.ndarray, y: np.ndarray, beta0: float, beta1: float) -> float:\n",
    "    return np.sum(np.square(calculate_regression_function(predictions, beta0, beta1) - y)) / (2 * len(y))"
   ]
  },
  {
   "cell_type": "code",
   "execution_count": 7,
   "id": "fd17cb3e-0fcf-4b22-9e36-207ad71b2671",
   "metadata": {},
   "outputs": [],
   "source": [
    "def calculate_gradient(predictions: np.ndarray, y: np.ndarray, beta0: float, beta1: float) -> Tuple[float, float]:\n",
    "    m = len(y)\n",
    "    diff = calculate_regression_function(predictions, beta0, beta1) - y\n",
    "    return np.sum(diff) / m, np.sum(diff * predictions) / m"
   ]
  },
  {
   "cell_type": "code",
   "execution_count": 8,
   "id": "a015fc7d-110d-4d43-9282-39e5c3ac2908",
   "metadata": {},
   "outputs": [],
   "source": [
    "def update_regression_coefficients(x: np.ndarray, y: np.ndarray, beta0: float, beta1: float, alpha: float) -> Tuple[float, float]:\n",
    "    ssr_beta0, ssr_beta1 = calculate_gradient(x, y, beta0, beta1)\n",
    "    return beta0 - alpha * ssr_beta0, beta1 - alpha * ssr_beta1"
   ]
  },
  {
   "cell_type": "code",
   "execution_count": 9,
   "id": "2eb0294f-f548-4449-872d-5499d6895ccc",
   "metadata": {},
   "outputs": [],
   "source": [
    "EPOCHS = 100\n",
    "\n",
    "def learn_and_fit(x: np.ndarray, y: np.ndarray) -> Tuple[np.ndarray, np.ndarray, np.ndarray]:\n",
    "    b0, b1, error = np.empty(EPOCHS), np.empty(EPOCHS), np.empty(EPOCHS)\n",
    "    beta0, beta1, alpha = initialize_coefficients()\n",
    "\n",
    "    for epoch in range(EPOCHS):\n",
    "        beta0, beta1 = update_regression_coefficients(x, y, beta0, beta1, alpha)\n",
    "        \n",
    "        b0[epoch] = beta0\n",
    "        b1[epoch] = beta1\n",
    "        error[epoch] = calculate_error(x, y, beta0, beta1)\n",
    "        \n",
    "    return b0, b1, error"
   ]
  },
  {
   "cell_type": "markdown",
   "id": "3adb1977-2784-4049-91d5-338da0f344ae",
   "metadata": {},
   "source": [
    "#### Learning model"
   ]
  },
  {
   "cell_type": "code",
   "execution_count": 10,
   "id": "3a97d052-e2a9-445f-ac47-4bd423e008fb",
   "metadata": {},
   "outputs": [],
   "source": [
    "years_experience = df['YearsExperience'].values\n",
    "salary = df['Salary'].values / 100000.0\n",
    "\n",
    "b0, b1, error = learn_and_fit(years_experience, salary)"
   ]
  },
  {
   "cell_type": "code",
   "execution_count": 11,
   "id": "a63a8877-2890-404a-85c5-0e31c6e48302",
   "metadata": {},
   "outputs": [
    {
     "data": {
      "image/png": "[encoded data removed]",
      "text/plain": [
       "<Figure size 640x480 with 1 Axes>"
      ]
     },
     "metadata": {},
     "output_type": "display_data"
    }
   ],
   "source": [
    "plt.plot(np.arange(EPOCHS), error)\n",
    "\n",
    "plt.title(\"Error change in epochs\")\n",
    "plt.xlabel('Epochs', fontsize=12)\n",
    "plt.ylabel('Error', fontsize=12)\n",
    "plt.grid(True)\n",
    "\n",
    "plt.show()"
   ]
  },
  {
   "cell_type": "markdown",
   "id": "7446634f-0c5e-442f-b2ce-5ccfecdabf75",
   "metadata": {},
   "source": [
    "#### Results"
   ]
  },
  {
   "cell_type": "code",
   "execution_count": null,
   "id": "5fc01715-e9a1-4467-93c9-c751d8da3f9f",
   "metadata": {},
   "outputs": [],
   "source": []
  },
  {
   "cell_type": "code",
   "execution_count": 12,
   "id": "3dcac579-7e08-424d-9474-7f07843c0281",
   "metadata": {},
   "outputs": [
    {
     "data": {
      "image/png": "[encoded data removed]",
      "text/plain": [
       "<Figure size 640x480 with 1 Axes>"
      ]
     },
     "metadata": {},
     "output_type": "display_data"
    }
   ],
   "source": [
    "plt.scatter(years_experience, salary)\n",
    "\n",
    "x = np.arange(min(years_experience), max(years_experience))\n",
    "plt.plot(x, b0[0] + x * b1[0], label=\"First epoch\")\n",
    "plt.plot(x, b0[EPOCHS // 2] + x * b1[EPOCHS // 2], label=\"Middle epoch\")\n",
    "plt.plot(x, b0[-1] + x * b1[-1], label=\"Last epoch\")\n",
    "\n",
    "plt.title(\"Experience - Salary plot\")\n",
    "plt.xlabel('Experience (Years)', fontsize=12)\n",
    "plt.ylabel('Salary (in hundreds of thousands)', fontsize=12)\n",
    "plt.grid(True)\n",
    "\n",
    "plt.legend()\n",
    "\n",
    "plt.show()"
   ]
  },
  {
   "cell_type": "markdown",
   "id": "5b1976ed-4955-4669-afeb-92b8a27f2bd1",
   "metadata": {},
   "source": [
    "#### Learning rate"
   ]
  },
  {
   "cell_type": "code",
   "execution_count": 13,
   "id": "fa987c62-b539-495b-901f-d0aea811476b",
   "metadata": {},
   "outputs": [
    {
     "name": "stdout",
     "output_type": "stream",
     "text": [
      "Alpha = 0.01, Number of epochs = 205\n",
      "Alpha = 0.001, Number of epochs = 60\n",
      "Alpha = 0.0001, Number of epochs = 40486\n"
     ]
    }
   ],
   "source": [
    "alphas = [0.01, 0.001, 0.0001]\n",
    "epsilon = 0.005\n",
    "\n",
    "for alpha in alphas:\n",
    "    epochs = 0\n",
    "    beta0, beta1 = initialize_coefficients()[0:2]\n",
    "    \n",
    "    while calculate_error(years_experience, salary, beta0, beta1) > epsilon:\n",
    "        beta0, beta1 = update_regression_coefficients(years_experience, salary, beta0, beta1, alpha)\n",
    "        epochs += 1\n",
    "        \n",
    "    print(f'Alpha = {alpha}, Number of epochs = {epochs}')"
   ]
  },
  {
   "cell_type": "markdown",
   "id": "a4ad0a5f-df7d-4a2c-bc21-a4cf0838a54a",
   "metadata": {},
   "source": [
    "#### Unit tests"
   ]
  },
  {
   "cell_type": "code",
   "execution_count": 14,
   "id": "acd82723-6d53-48fb-acd5-f3f56ea742bd",
   "metadata": {},
   "outputs": [
    {
     "name": "stderr",
     "output_type": "stream",
     "text": [
      "test_learn_and_fit (__main__.SimpleLinearRegressionTest.test_learn_and_fit) ... ok\n",
      "\n",
      "----------------------------------------------------------------------\n",
      "Ran 1 test in 0.005s\n",
      "\n",
      "OK\n"
     ]
    },
    {
     "data": {
      "text/plain": [
       "<unittest.main.TestProgram at 0x70bd7d9dbb90>"
      ]
     },
     "execution_count": 14,
     "metadata": {},
     "output_type": "execute_result"
    }
   ],
   "source": [
    "import unittest\n",
    "import pandas as pd\n",
    "\n",
    "class SimpleLinearRegressionTest(unittest.TestCase):\n",
    "    \n",
    "    def test_learn_and_fit(self):\n",
    "        df = pd.read_csv('Salary.csv', sep=',')\n",
    "        x = df['YearsExperience'].values.reshape(df['YearsExperience'].shape[0], 1)\n",
    "        y = df['Salary'].values.reshape(df['Salary'].shape[0], 1)\n",
    "        \n",
    "        b0, b1, error = learn_and_fit(x, y)\n",
    "        \n",
    "        self.assertTrue(len(b0) > 1)\n",
    "        self.assertTrue(len(b1) > 1)\n",
    "        self.assertTrue(len(b0) == len(b1))\n",
    "        self.assertTrue(all(i >= j for i, j in zip(error, error[1:]))) #Sprawdzenie, czy błędy nie rosną\n",
    "        \n",
    "unittest.main(argv=[''], verbosity=2, exit=False)"
   ]
  },
  {
   "cell_type": "code",
   "execution_count": 15,
   "id": "d1180ae0-c270-4fe9-bb12-243764c8affd",
   "metadata": {},
   "outputs": [
    {
     "name": "stderr",
     "output_type": "stream",
     "text": [
      "test_initialisation (__main__.SimpleCoefficientsTest.test_initialisation) ... ok\n",
      "test_learn_and_fit (__main__.SimpleLinearRegressionTest.test_learn_and_fit) ... ok\n",
      "\n",
      "----------------------------------------------------------------------\n",
      "Ran 2 tests in 0.007s\n",
      "\n",
      "OK\n"
     ]
    },
    {
     "data": {
      "text/plain": [
       "<unittest.main.TestProgram at 0x70bd7b0e2a90>"
      ]
     },
     "execution_count": 15,
     "metadata": {},
     "output_type": "execute_result"
    }
   ],
   "source": [
    "class SimpleCoefficientsTest(unittest.TestCase):\n",
    "    \n",
    "    def test_initialisation(self):\n",
    "        for _ in range(1000):\n",
    "            beta0, beta1, alpha = initialize_coefficients()\n",
    "            \n",
    "            self.assertTrue(beta0 > 0.0)\n",
    "            self.assertTrue(beta0 < 1.0)\n",
    "            self.assertTrue(beta1 > 0.0)\n",
    "            self.assertTrue(beta1 < 1.0)\n",
    "            self.assertTrue(alpha > 0.0)\n",
    "            self.assertTrue(alpha < 1.0)\n",
    "        \n",
    "unittest.main(argv=[''], verbosity=2, exit=False)"
   ]
  },
  {
   "cell_type": "code",
   "execution_count": null,
   "id": "4f7176da-fcf5-459c-8563-247e78d44f7c",
   "metadata": {},
   "outputs": [],
   "source": []
  }
 ],
 "metadata": {
  "kernelspec": {
   "display_name": "Python 3 (ipykernel)",
   "language": "python",
   "name": "python3"
  },
  "language_info": {
   "codemirror_mode": {
    "name": "ipython",
    "version": 3
   },
   "file_extension": ".py",
   "mimetype": "text/x-python",
   "name": "python",
   "nbconvert_exporter": "python",
   "pygments_lexer": "ipython3",
   "version": "3.11.5"
  }
 },
 "nbformat": 4,
 "nbformat_minor": 5
}
